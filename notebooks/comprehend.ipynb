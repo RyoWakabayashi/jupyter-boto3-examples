{
 "cells": [
  {
   "cell_type": "markdown",
   "metadata": {},
   "source": [
    "# Comprehend による文章解析"
   ]
  },
  {
   "cell_type": "markdown",
   "metadata": {},
   "source": [
    "## 必要なパッケージのインポート"
   ]
  },
  {
   "cell_type": "code",
   "execution_count": null,
   "metadata": {},
   "outputs": [],
   "source": [
    "import boto3"
   ]
  },
  {
   "cell_type": "markdown",
   "metadata": {},
   "source": [
    "## クライアントの作成"
   ]
  },
  {
   "cell_type": "code",
   "execution_count": null,
   "metadata": {},
   "outputs": [],
   "source": [
    "client = boto3.client('comprehend', region_name='us-west-2')"
   ]
  },
  {
   "cell_type": "markdown",
   "metadata": {},
   "source": [
    "## 言語の特定"
   ]
  },
  {
   "cell_type": "code",
   "execution_count": null,
   "metadata": {
    "scrolled": true
   },
   "outputs": [],
   "source": [
    "text = 'Windows 10 の PC に Python をインストールする方法を教えてください'\n",
    "\n",
    "response = client.detect_dominant_language(\n",
    "    Text=text\n",
    ")\n",
    "\n",
    "response"
   ]
  },
  {
   "cell_type": "code",
   "execution_count": null,
   "metadata": {},
   "outputs": [],
   "source": [
    "LAGUAGES = {\n",
    "\"af\": \"Afrikaans\",\n",
    "\"sq\": \"Albanian\",\n",
    "\"am\": \"Amharic\",\n",
    "\"ar\": \"Arabic\",\n",
    "\"az\": \"Azerbaijani\",\n",
    "\"bn\": \"Bengali\",\n",
    "\"bs\": \"Bosnian\",\n",
    "\"bg\": \"Bulgarian\",\n",
    "\"zh\": \"Chinese (Simplified)\",\n",
    "\"zh-TW\": \"Chinese (Traditional)\",\n",
    "\"hr\": \"Croatian\",\n",
    "\"cs\": \"Czech\",\n",
    "\"da\": \"Danish\",\n",
    "\"fa-AF\": \"Dari\",\n",
    "\"nl\": \"Dutch\",\n",
    "\"en\": \"English\",\n",
    "\"et\": \"Estonian\",\n",
    "\"fi\": \"Finnish\",\n",
    "\"fr\": \"French\",\n",
    "\"fr-CA\": \"French (Canada)\",\n",
    "\"ka\": \"Georgian\",\n",
    "\"de\": \"German\",\n",
    "\"el\": \"Greek\",\n",
    "\"ha\": \"Hausa\",\n",
    "\"he\": \"Hebrew\",\n",
    "\"hi\": \"Hindi\",\n",
    "\"hu\": \"Hungarian\",\n",
    "\"id\": \"Indonesian\",\n",
    "\"it\": \"Italian\",\n",
    "\"ja\": \"Japanese\",\n",
    "\"ko\": \"Korean\",\n",
    "\"lv\": \"Latvian\",\n",
    "\"ms\": \"Malay\",\n",
    "\"no\": \"Norwegian\",\n",
    "\"fa\": \"Persian\",\n",
    "\"ps\": \"Pashto\",\n",
    "\"pl\": \"Polish\",\n",
    "\"pt\": \"Portuguese\",\n",
    "\"ro\": \"Romanian\",\n",
    "\"ru\": \"Russian\",\n",
    "\"sr\": \"Serbian\",\n",
    "\"sk\": \"Slovak\",\n",
    "\"sl\": \"Slovenian\",\n",
    "\"so\": \"Somali\",\n",
    "\"es\": \"Spanish\",\n",
    "\"es-MX\": \"Spanish (Mexico)\",\n",
    "\"sw\": \"Swahili\",\n",
    "\"sv\": \"Swedish\",\n",
    "\"tl\": \"Tagalog\",\n",
    "\"ta\": \"Tamil\",\n",
    "\"th\": \"Thai\",\n",
    "\"tr\": \"Turkish\",\n",
    "\"uk\": \"Ukrainian\",\n",
    "\"ur\": \"Urdu\",\n",
    "\"vi\": \"Vietnamese\"\n",
    "}"
   ]
  },
  {
   "cell_type": "code",
   "execution_count": null,
   "metadata": {},
   "outputs": [],
   "source": [
    "def show_languages(result):\n",
    "    for language in result['Languages']:\n",
    "        print(\n",
    "            LAGUAGES[language['LanguageCode']],\n",
    "            \":\",\n",
    "            language['Score']\n",
    "        )"
   ]
  },
  {
   "cell_type": "code",
   "execution_count": null,
   "metadata": {},
   "outputs": [],
   "source": [
    "show_languages(response)"
   ]
  },
  {
   "cell_type": "code",
   "execution_count": null,
   "metadata": {},
   "outputs": [],
   "source": [
    "text = 'Vivi e lascia vivere.'\n",
    "\n",
    "response = client.detect_dominant_language(\n",
    "    Text=text\n",
    ")\n",
    "\n",
    "show_languages(response)"
   ]
  },
  {
   "cell_type": "code",
   "execution_count": null,
   "metadata": {},
   "outputs": [],
   "source": [
    "text = 'Masarap ang mangga.'\n",
    "\n",
    "response = client.detect_dominant_language(\n",
    "    Text=text\n",
    ")\n",
    "\n",
    "show_languages(response)"
   ]
  },
  {
   "cell_type": "code",
   "execution_count": null,
   "metadata": {},
   "outputs": [],
   "source": [
    "text = 'आपके परिवार में कितने सदस्य हैं ?'\n",
    "\n",
    "response = client.detect_dominant_language(\n",
    "    Text=text\n",
    ")\n",
    "\n",
    "show_languages(response)"
   ]
  },
  {
   "cell_type": "markdown",
   "metadata": {},
   "source": [
    "## エンティティーの抽出"
   ]
  },
  {
   "cell_type": "code",
   "execution_count": null,
   "metadata": {},
   "outputs": [],
   "source": [
    "text = '若林は4月1日に渋谷でiPhoneを1台購入しました'\n",
    "\n",
    "response = client.detect_entities(\n",
    "    Text=text,\n",
    "    LanguageCode='ja'\n",
    ")\n",
    "\n",
    "response"
   ]
  },
  {
   "cell_type": "code",
   "execution_count": null,
   "metadata": {},
   "outputs": [],
   "source": [
    "def show_entities(result):\n",
    "    for entity in result['Entities']:\n",
    "        print(\n",
    "            entity['Type'],\n",
    "            \":\",\n",
    "            entity['Text'],\n",
    "            \":\",\n",
    "            entity['Score']\n",
    "        )"
   ]
  },
  {
   "cell_type": "code",
   "execution_count": null,
   "metadata": {},
   "outputs": [],
   "source": [
    "show_entities(response)"
   ]
  },
  {
   "cell_type": "markdown",
   "metadata": {},
   "source": [
    "## キーワードの抽出"
   ]
  },
  {
   "cell_type": "code",
   "execution_count": null,
   "metadata": {},
   "outputs": [],
   "source": [
    "text = 'メロスは激怒した。必ず、かの邪智暴虐の王を除かなければならぬと決意した。' +\\\n",
    "'メロスには政治がわからぬ。メロスは、村の牧人である。笛を吹き、羊と遊んで暮して来た。' +\\\n",
    "'けれども邪悪に対しては、人一倍に敏感であった。' +\\\n",
    "'きょう未明メロスは村を出発し、野を越え山越え、十里はなれた此のシラクスの市にやって来た。' +\\\n",
    "'メロスには父も、母も無い。女房も無い。十六の、内気な妹と二人暮しだ。' +\\\n",
    "'この妹は、村の或る律気な一牧人を、近々、花婿として迎える事になっていた。' +\\\n",
    "'結婚式も間近かなのである。' +\\\n",
    "'メロスは、それゆえ、花嫁の衣裳やら祝宴の御馳走やらを買いに、はるばる市にやって来たのだ。'\n",
    "\n",
    "response = client.detect_key_phrases(\n",
    "    Text=text,\n",
    "    LanguageCode='ja'\n",
    ")\n",
    "\n",
    "response"
   ]
  },
  {
   "cell_type": "code",
   "execution_count": null,
   "metadata": {},
   "outputs": [],
   "source": [
    "def show_key_phrases(result):\n",
    "    sorted_key_phrase = sorted(result['KeyPhrases'], key=lambda i:i['Score'], reverse=True)\n",
    "    for key_phrase in sorted_key_phrase:\n",
    "        if key_phrase['Score'] > 0.95:\n",
    "            print(\n",
    "                key_phrase['Text'],\n",
    "                \":\",\n",
    "                key_phrase['Score']\n",
    "            )"
   ]
  },
  {
   "cell_type": "code",
   "execution_count": null,
   "metadata": {},
   "outputs": [],
   "source": [
    "show_key_phrases(response)"
   ]
  },
  {
   "cell_type": "code",
   "execution_count": null,
   "metadata": {},
   "outputs": [],
   "source": [
    "text = '「天は人の上に人を造らず人の下に人を造らず」と言えり。' +\\\n",
    "'されば天より人を生ずるには、万人は万人みな同じ位にして、生まれながら貴賤上下の差別なく、' +\\\n",
    "'万物の霊たる身と心との働きをもって天地の間にあるよろずの物を資り、もって衣食住の用を達し、' +\\\n",
    "'自由自在、互いに人の妨げをなさずしておのおの安楽にこの世を渡らしめ給うの趣意なり。' +\\\n",
    "'されども今、広くこの人間世界を見渡すに、かしこき人あり、おろかなる人あり、' +\\\n",
    "'貧しきもあり、富めるもあり、貴人もあり、下人もありて、その有様雲と泥との相違あるに似たるはなんぞや。' +\\\n",
    "'その次第はなはだ明らかなり。『実語教』に、「人学ばざれば智なし、智なき者は愚人なり」とあり。' +\\\n",
    "'されば賢人と愚人との別は学ぶと学ばざるとによりてできるものなり。'\n",
    "\n",
    "response = client.detect_key_phrases(\n",
    "    Text=text,\n",
    "    LanguageCode='ja'\n",
    ")\n",
    "\n",
    "show_key_phrases(response)"
   ]
  },
  {
   "cell_type": "markdown",
   "metadata": {},
   "source": [
    "## 好悪の抽出"
   ]
  },
  {
   "cell_type": "code",
   "execution_count": null,
   "metadata": {},
   "outputs": [],
   "source": [
    "text = 'こんな不具合がある状態ではとてもリリースできない'\n",
    "\n",
    "response = client.detect_sentiment(\n",
    "    Text=text,\n",
    "    LanguageCode='ja'\n",
    ")\n",
    "\n",
    "response"
   ]
  },
  {
   "cell_type": "code",
   "execution_count": null,
   "metadata": {},
   "outputs": [],
   "source": [
    "def show_sentiment(result):\n",
    "    for sentiment, score in result['SentimentScore'].items():\n",
    "        print(\n",
    "            sentiment,\n",
    "            \":\",\n",
    "            str(round(score * 100, 1)) + \" %\"\n",
    "        )"
   ]
  },
  {
   "cell_type": "code",
   "execution_count": null,
   "metadata": {},
   "outputs": [],
   "source": [
    "show_sentiment(response)"
   ]
  },
  {
   "cell_type": "markdown",
   "metadata": {},
   "source": [
    "## 形態素解析（日本語未対応）"
   ]
  },
  {
   "cell_type": "code",
   "execution_count": null,
   "metadata": {},
   "outputs": [],
   "source": [
    "text = 'Put your hands up !'\n",
    "\n",
    "response = client.detect_syntax(\n",
    "    Text=text,\n",
    "    LanguageCode='en'\n",
    ")\n",
    "\n",
    "response"
   ]
  },
  {
   "cell_type": "code",
   "execution_count": null,
   "metadata": {},
   "outputs": [],
   "source": [
    "pos_tag_dict = {\n",
    "\"ADJ\": \"形容詞\",\n",
    "\"ADP\": \"設置詞\",\n",
    "\"ADV\": \"副詞\",\n",
    "\"AUX\": \"助動詞\",\n",
    "\"CCONJ\": \"接続詞\",\n",
    "\"DET\": \"限定詞\",\n",
    "\"INTJ\": \"間投詞\",\n",
    "\"NOUN\": \"名詞\",\n",
    "\"NUM\": \"数詞\",\n",
    "\"O\": \"その他\",\n",
    "\"PART\": \"助詞\",\n",
    "\"PRON\": \"代名詞\",\n",
    "\"PROPN\": \"固有名詞\",\n",
    "\"PUNCT\": \"句読点\",\n",
    "\"SCONJ\": \"連結詞\",\n",
    "\"SYM\": \"シンボル\",\n",
    "\"VERB\": \"動詞\"\n",
    "}"
   ]
  },
  {
   "cell_type": "code",
   "execution_count": null,
   "metadata": {},
   "outputs": [],
   "source": [
    "def show_tokens(result):\n",
    "    for token in result['SyntaxTokens']:\n",
    "        part = token['PartOfSpeech']\n",
    "        print(\n",
    "            token['Text'],\n",
    "            \":\",\n",
    "            pos_tag_dict[part['Tag']],\n",
    "            \":\",\n",
    "            str(round(part['Score'] * 100, 1)) + \" %\"\n",
    "        )"
   ]
  },
  {
   "cell_type": "code",
   "execution_count": null,
   "metadata": {},
   "outputs": [],
   "source": [
    "show_tokens(response)"
   ]
  }
 ],
 "metadata": {
  "kernelspec": {
   "display_name": "Python 3",
   "language": "python",
   "name": "python3"
  },
  "language_info": {
   "codemirror_mode": {
    "name": "ipython",
    "version": 3
   },
   "file_extension": ".py",
   "mimetype": "text/x-python",
   "name": "python",
   "nbconvert_exporter": "python",
   "pygments_lexer": "ipython3",
   "version": "3.7.7"
  }
 },
 "nbformat": 4,
 "nbformat_minor": 4
}
