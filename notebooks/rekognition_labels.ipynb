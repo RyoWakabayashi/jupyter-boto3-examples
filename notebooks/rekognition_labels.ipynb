{
 "cells": [
  {
   "cell_type": "markdown",
   "metadata": {},
   "source": [
    "# Rekognition による物体検出"
   ]
  },
  {
   "cell_type": "markdown",
   "metadata": {},
   "source": [
    "## 必要なパッケージのインポート"
   ]
  },
  {
   "cell_type": "code",
   "execution_count": null,
   "metadata": {},
   "outputs": [],
   "source": [
    "import io\n",
    "import requests\n",
    "import boto3\n",
    "from PIL import Image, ImageDraw"
   ]
  },
  {
   "cell_type": "markdown",
   "metadata": {},
   "source": [
    "## アカウント情報の確認"
   ]
  },
  {
   "cell_type": "code",
   "execution_count": null,
   "metadata": {},
   "outputs": [],
   "source": [
    "boto3.client('sts').get_caller_identity()"
   ]
  },
  {
   "cell_type": "markdown",
   "metadata": {},
   "source": [
    "## クライアントの作成"
   ]
  },
  {
   "cell_type": "code",
   "execution_count": null,
   "metadata": {},
   "outputs": [],
   "source": [
    "client = boto3.client('rekognition')"
   ]
  },
  {
   "cell_type": "markdown",
   "metadata": {},
   "source": [
    "## ローカル画像からの検出"
   ]
  },
  {
   "cell_type": "code",
   "execution_count": null,
   "metadata": {},
   "outputs": [],
   "source": [
    "img_pil = Image.open('imgs/sofa.jpg')\n",
    "img_pil"
   ]
  },
  {
   "cell_type": "code",
   "execution_count": null,
   "metadata": {},
   "outputs": [],
   "source": [
    "img_bytes_io = io.BytesIO()\n",
    "img_pil.save(img_bytes_io, format=\"jpeg\")\n",
    "img_bytes = img_bytes_io.getvalue()\n",
    "\n",
    "response = client.detect_labels(\n",
    "    Image={\n",
    "        'Bytes': img_bytes\n",
    "    },\n",
    "    MaxLabels=5,\n",
    "    MinConfidence=0.5\n",
    ")\n",
    "\n",
    "response"
   ]
  },
  {
   "cell_type": "code",
   "execution_count": null,
   "metadata": {},
   "outputs": [],
   "source": [
    "def show_labels(img, labels):\n",
    "    img_width, img_height = img.size\n",
    "    draw = ImageDraw.Draw(img)\n",
    "\n",
    "    for label in labels:\n",
    "        for instance in label['Instances']:\n",
    "            box = instance['BoundingBox']\n",
    "            draw.rectangle(\n",
    "                (box['Left'] * img_width, box['Top'] * img_height, # 左上座標\n",
    "                (box['Left'] + box['Width']) * img_width, (box['Top'] + box['Height']) * img_height), # 右下座標\n",
    "                outline=(255, 0, 0) # 色\n",
    "            )\n",
    "            draw.text(\n",
    "                (box['Left'] * img_width + 5, box['Top'] * img_height + 5), # 左上座標\n",
    "                label['Name'], # 文字\n",
    "                fill=(255, 0, 0) # 色\n",
    "            )\n",
    "            draw.text(\n",
    "                (box['Left'] * img_width + 5, box['Top'] * img_height + 18), # 左上座標\n",
    "                str(round(instance['Confidence'], 1)) + ' %', # 文字\n",
    "                fill=(255, 0, 0) # 色\n",
    "            )\n",
    "\n",
    "    return img"
   ]
  },
  {
   "cell_type": "code",
   "execution_count": null,
   "metadata": {},
   "outputs": [],
   "source": [
    "show_labels(img_pil.copy(), response['Labels'])"
   ]
  },
  {
   "cell_type": "markdown",
   "metadata": {},
   "source": [
    "## Web上の画像からの検出"
   ]
  },
  {
   "cell_type": "code",
   "execution_count": null,
   "metadata": {},
   "outputs": [],
   "source": [
    "img_web_res = requests.get('http://free-photo.net/photo_img/0812110532.jpg')\n",
    "img_web = Image.open(io.BytesIO(img_web_res.content))\n",
    "img_web"
   ]
  },
  {
   "cell_type": "code",
   "execution_count": null,
   "metadata": {},
   "outputs": [],
   "source": [
    "img_bytes = io.BytesIO(img_web_res.content).getvalue()\n",
    "\n",
    "response = client.detect_labels(\n",
    "    Image={\n",
    "        'Bytes': img_bytes\n",
    "    },\n",
    "    MaxLabels=5,\n",
    "    MinConfidence=0.5\n",
    ")\n",
    "\n",
    "response"
   ]
  },
  {
   "cell_type": "code",
   "execution_count": null,
   "metadata": {},
   "outputs": [],
   "source": [
    "show_labels(img_web.copy(), response['Labels'])"
   ]
  },
  {
   "cell_type": "code",
   "execution_count": null,
   "metadata": {},
   "outputs": [],
   "source": []
  }
 ],
 "metadata": {
  "kernelspec": {
   "display_name": "Python 3",
   "language": "python",
   "name": "python3"
  },
  "language_info": {
   "codemirror_mode": {
    "name": "ipython",
    "version": 3
   },
   "file_extension": ".py",
   "mimetype": "text/x-python",
   "name": "python",
   "nbconvert_exporter": "python",
   "pygments_lexer": "ipython3",
   "version": "3.7.1"
  }
 },
 "nbformat": 4,
 "nbformat_minor": 4
}
