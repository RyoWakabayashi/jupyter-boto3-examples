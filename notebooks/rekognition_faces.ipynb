{
 "cells": [
  {
   "cell_type": "markdown",
   "metadata": {},
   "source": [
    "# Rekognition による顔検出・顔識別"
   ]
  },
  {
   "cell_type": "markdown",
   "metadata": {},
   "source": [
    "## 必要なパッケージのインポート"
   ]
  },
  {
   "cell_type": "code",
   "execution_count": null,
   "metadata": {},
   "outputs": [],
   "source": [
    "import io\n",
    "import requests\n",
    "import time\n",
    "import boto3\n",
    "import numpy as np\n",
    "from PIL import Image, ImageDraw\n",
    "from matplotlib import pyplot as plt"
   ]
  },
  {
   "cell_type": "markdown",
   "metadata": {},
   "source": [
    "## クライアントの作成"
   ]
  },
  {
   "cell_type": "code",
   "execution_count": null,
   "metadata": {},
   "outputs": [],
   "source": [
    "client = boto3.client('rekognition')"
   ]
  },
  {
   "cell_type": "markdown",
   "metadata": {},
   "source": [
    "## 顔コレクションの作成"
   ]
  },
  {
   "cell_type": "code",
   "execution_count": null,
   "metadata": {},
   "outputs": [],
   "source": [
    "COLLECTION_ID = 'test' + str(time.time())\n",
    "COLLECTION_ID"
   ]
  },
  {
   "cell_type": "code",
   "execution_count": null,
   "metadata": {},
   "outputs": [],
   "source": [
    "client.create_collection(CollectionId=COLLECTION_ID)"
   ]
  },
  {
   "cell_type": "markdown",
   "metadata": {},
   "source": [
    "## 顔コレクションへの登録"
   ]
  },
  {
   "cell_type": "code",
   "execution_count": null,
   "metadata": {},
   "outputs": [],
   "source": [
    "face_list = []"
   ]
  },
  {
   "cell_type": "code",
   "execution_count": null,
   "metadata": {},
   "outputs": [],
   "source": [
    "img_a = Image.open('imgs/face_a.jpg')\n",
    "img_a"
   ]
  },
  {
   "cell_type": "code",
   "execution_count": null,
   "metadata": {},
   "outputs": [],
   "source": [
    "img_bytes_io = io.BytesIO()\n",
    "img_a.save(img_bytes_io, format=\"jpeg\")\n",
    "img_bytes = img_bytes_io.getvalue()\n",
    "\n",
    "response = client.index_faces(\n",
    "    CollectionId=COLLECTION_ID,\n",
    "    Image={\n",
    "        'Bytes': img_bytes\n",
    "    },\n",
    "    DetectionAttributes=[\"ALL\"]\n",
    ")\n",
    "\n",
    "response"
   ]
  },
  {
   "cell_type": "code",
   "execution_count": null,
   "metadata": {},
   "outputs": [],
   "source": [
    "def show_faces(img, records):\n",
    "    img_width, img_height = img.size\n",
    "    draw = ImageDraw.Draw(img)\n",
    "\n",
    "    for record in records:\n",
    "        face = record['Face']\n",
    "        box = face['BoundingBox']\n",
    "        img_face = img.crop(\n",
    "            (\n",
    "                box['Left'] * img_width, box['Top'] * img_height, # 左上座標\n",
    "                (box['Left'] + box['Width']) * img_width, (box['Top'] + box['Height']) * img_height # 右下座標\n",
    "            )\n",
    "        )\n",
    "        plt.imshow(np.asarray(img_face))\n",
    "        plt.show()\n",
    "        print(face['FaceId'], ' : ' + str(round(face['Confidence'], 1)) + ' %' )\n",
    "        \n",
    "        detail = record['FaceDetail']\n",
    "        print('Gender : ' + detail['Gender']['Value'], ' : ' + str(round(detail['Gender']['Confidence'], 1)) + ' %' )\n",
    "        print('EyesOpen : ' + str(detail['EyesOpen']['Value']), ' : ' + str(round(detail['EyesOpen']['Confidence'], 1)) + ' %' )\n",
    "        print('Smile : ' + str(detail['Smile']['Value']), ' : ' + str(round(detail['Smile']['Confidence'], 1)) + ' %' )\n",
    "\n",
    "        for emotion in detail['Emotions']:\n",
    "            print(emotion['Type'], ' : ' + str(round(emotion['Confidence'], 1)) + ' %' )\n",
    "        \n",
    "        face_list.append({\n",
    "            'FaceId': face['FaceId'],\n",
    "            'Image': img_face\n",
    "        })"
   ]
  },
  {
   "cell_type": "code",
   "execution_count": null,
   "metadata": {},
   "outputs": [],
   "source": [
    "show_faces(img_a.copy(), response['FaceRecords'])"
   ]
  },
  {
   "cell_type": "code",
   "execution_count": null,
   "metadata": {},
   "outputs": [],
   "source": [
    "img_b = Image.open('imgs/face_b.jpg')\n",
    "img_b"
   ]
  },
  {
   "cell_type": "code",
   "execution_count": null,
   "metadata": {},
   "outputs": [],
   "source": [
    "img_bytes_io = io.BytesIO()\n",
    "img_b.save(img_bytes_io, format=\"jpeg\")\n",
    "img_bytes = img_bytes_io.getvalue()\n",
    "\n",
    "response = client.index_faces(\n",
    "    CollectionId=COLLECTION_ID,\n",
    "    Image={\n",
    "        'Bytes': img_bytes\n",
    "    },\n",
    "    DetectionAttributes=[\"ALL\"]\n",
    ")\n",
    "show_faces(img_b.copy(), response['FaceRecords'])"
   ]
  },
  {
   "cell_type": "code",
   "execution_count": null,
   "metadata": {},
   "outputs": [],
   "source": [
    "img_c = Image.open('imgs/face_c.jpg')\n",
    "img_c"
   ]
  },
  {
   "cell_type": "code",
   "execution_count": null,
   "metadata": {},
   "outputs": [],
   "source": [
    "img_bytes_io = io.BytesIO()\n",
    "img_c.save(img_bytes_io, format=\"jpeg\")\n",
    "img_bytes = img_bytes_io.getvalue()\n",
    "\n",
    "response = client.index_faces(\n",
    "    CollectionId=COLLECTION_ID,\n",
    "    Image={\n",
    "        'Bytes': img_bytes\n",
    "    },\n",
    "    DetectionAttributes=[\"ALL\"]\n",
    ")\n",
    "show_faces(img_c.copy(), response['FaceRecords'])"
   ]
  },
  {
   "cell_type": "markdown",
   "metadata": {},
   "source": [
    "## 同一人物の検索"
   ]
  },
  {
   "cell_type": "code",
   "execution_count": null,
   "metadata": {
    "scrolled": false
   },
   "outputs": [],
   "source": [
    "for face in face_list:\n",
    "        print('対象人物 : ' + face['FaceId'])\n",
    "        plt.imshow(np.asarray(face['Image']))\n",
    "        plt.show()\n",
    "        print('同一人物')\n",
    "        response = client.search_faces(\n",
    "            CollectionId=COLLECTION_ID,\n",
    "            FaceId=face['FaceId']\n",
    "        )\n",
    "        for matche in response['FaceMatches']:\n",
    "            print(matche['Face']['FaceId'], ' : ' + str(round(matche['Similarity'], 1)) + ' %' )\n",
    "            for sim_face in face_list:\n",
    "                if sim_face['FaceId'] == matche['Face']['FaceId']:\n",
    "                    plt.imshow(np.asarray(sim_face['Image']))\n",
    "                    plt.show()\n",
    "                    break\n",
    "        print('')\n",
    "        print('')\n",
    "        print('')"
   ]
  },
  {
   "cell_type": "markdown",
   "metadata": {},
   "source": [
    "## 顔コレクションの削除"
   ]
  },
  {
   "cell_type": "code",
   "execution_count": null,
   "metadata": {},
   "outputs": [],
   "source": [
    "client.delete_collection(CollectionId=COLLECTION_ID)"
   ]
  },
  {
   "cell_type": "code",
   "execution_count": null,
   "metadata": {},
   "outputs": [],
   "source": []
  }
 ],
 "metadata": {
  "kernelspec": {
   "display_name": "Python 3",
   "language": "python",
   "name": "python3"
  },
  "language_info": {
   "codemirror_mode": {
    "name": "ipython",
    "version": 3
   },
   "file_extension": ".py",
   "mimetype": "text/x-python",
   "name": "python",
   "nbconvert_exporter": "python",
   "pygments_lexer": "ipython3",
   "version": "3.7.1"
  }
 },
 "nbformat": 4,
 "nbformat_minor": 4
}
