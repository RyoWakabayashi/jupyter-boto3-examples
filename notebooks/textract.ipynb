{
 "cells": [
  {
   "cell_type": "markdown",
   "metadata": {},
   "source": [
    "# Rekognition によるテキスト検出"
   ]
  },
  {
   "cell_type": "markdown",
   "metadata": {},
   "source": [
    "## 必要なパッケージのインポート"
   ]
  },
  {
   "cell_type": "code",
   "execution_count": null,
   "metadata": {},
   "outputs": [],
   "source": [
    "import io\n",
    "import boto3\n",
    "from PIL import Image, ImageDraw"
   ]
  },
  {
   "cell_type": "markdown",
   "metadata": {},
   "source": [
    "## クライアントの作成"
   ]
  },
  {
   "cell_type": "code",
   "execution_count": null,
   "metadata": {},
   "outputs": [],
   "source": [
    "client = boto3.client('textract', region_name='us-west-2')"
   ]
  },
  {
   "cell_type": "markdown",
   "metadata": {},
   "source": [
    "## ローカル画像からの検出"
   ]
  },
  {
   "cell_type": "code",
   "execution_count": null,
   "metadata": {},
   "outputs": [],
   "source": [
    "img_pil = Image.open('imgs/running.jpg')\n",
    "img_pil"
   ]
  },
  {
   "cell_type": "code",
   "execution_count": null,
   "metadata": {
    "scrolled": true
   },
   "outputs": [],
   "source": [
    "img_bytes_io = io.BytesIO()\n",
    "img_pil.save(img_bytes_io, format=\"jpeg\")\n",
    "img_bytes = img_bytes_io.getvalue()\n",
    "\n",
    "response = client.analyze_document(\n",
    "    Document={\n",
    "        'Bytes': img_bytes\n",
    "    },\n",
    "    FeatureTypes=[ \n",
    "        'TABLES',\n",
    "        'FORMS'\n",
    "    ]\n",
    ")\n",
    "\n",
    "response"
   ]
  },
  {
   "cell_type": "code",
   "execution_count": null,
   "metadata": {},
   "outputs": [],
   "source": [
    "def show_texts(img, blocks):\n",
    "    img_width, img_height = img.size\n",
    "    draw = ImageDraw.Draw(img)\n",
    "\n",
    "    for block in blocks:\n",
    "        if 'Text' in block.keys():\n",
    "            print(block['BlockType'], ':', \n",
    "                  block['Text'], ':', str(round(block['Confidence'], 1)) + ' %')\n",
    "        elif 'Relationships' in block.keys():\n",
    "            text = ''\n",
    "            confidence = 0\n",
    "            for relationship in block['Relationships']:\n",
    "                if relationship['Type'] == 'CHILD':\n",
    "                    for id in relationship['Ids']:\n",
    "                        for rel_block in blocks:\n",
    "                            if rel_block['Id'] == id and 'Text' in rel_block.keys():\n",
    "                                text = rel_block['Text']\n",
    "                                confidence = rel_block['Confidence']\n",
    "                                break\n",
    "                        if text != '':\n",
    "                            break\n",
    "                    if text != '':\n",
    "                            break\n",
    "            if text != '':\n",
    "                if block['BlockType'] == 'CELL':\n",
    "                    print(block['BlockType'], ':',\n",
    "                          block['RowIndex'], '行 :',\n",
    "                          block['ColumnIndex'], '列 :',\n",
    "                          text, ':', str(round(confidence, 1)) + ' %')\n",
    "                else:\n",
    "                    print(block['BlockType'], ':', text, ':', str(round(confidence, 1)) + ' %')\n",
    "            else:\n",
    "                if block['BlockType'] == 'CELL':\n",
    "                    print(block['BlockType'], ':',\n",
    "                          block['RowIndex'], '行 :',\n",
    "                          block['ColumnIndex'], '列')\n",
    "                else:\n",
    "                    print(block['BlockType'])\n",
    "        else:\n",
    "            if block['BlockType'] == 'CELL':\n",
    "                print(block['BlockType'], ':',\n",
    "                      block['RowIndex'], '行 :',\n",
    "                      block['ColumnIndex'], '列')\n",
    "            else:\n",
    "                print(block['BlockType'])\n",
    "        box = block['Geometry']['BoundingBox']\n",
    "        draw.rectangle(\n",
    "            (box['Left'] * img_width, box['Top'] * img_height, # 左上座標\n",
    "            (box['Left'] + box['Width']) * img_width, (box['Top'] + box['Height']) * img_height), # 右下座標\n",
    "            outline=(255, 0, 0) # 色\n",
    "        )\n",
    "\n",
    "    return img"
   ]
  },
  {
   "cell_type": "code",
   "execution_count": null,
   "metadata": {
    "scrolled": false
   },
   "outputs": [],
   "source": [
    "show_texts(img_pil.copy(), response['Blocks'])"
   ]
  },
  {
   "cell_type": "code",
   "execution_count": null,
   "metadata": {},
   "outputs": [],
   "source": []
  }
 ],
 "metadata": {
  "kernelspec": {
   "display_name": "Python 3",
   "language": "python",
   "name": "python3"
  },
  "language_info": {
   "codemirror_mode": {
    "name": "ipython",
    "version": 3
   },
   "file_extension": ".py",
   "mimetype": "text/x-python",
   "name": "python",
   "nbconvert_exporter": "python",
   "pygments_lexer": "ipython3",
   "version": "3.7.7"
  }
 },
 "nbformat": 4,
 "nbformat_minor": 4
}
